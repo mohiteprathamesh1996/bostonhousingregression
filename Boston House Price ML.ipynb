{
 "cells": [
  {
   "cell_type": "markdown",
   "id": "03e18dde",
   "metadata": {},
   "source": [
    "### Load packages"
   ]
  },
  {
   "cell_type": "code",
   "execution_count": null,
   "id": "8c2a37ac",
   "metadata": {},
   "outputs": [],
   "source": [
    "import pandas as pd\n",
    "import numpy as np\n",
    "import pickle\n",
    "from sklearn.preprocessing import StandardScaler\n",
    "from sklearn.linear_model import LinearRegression\n",
    "from sklearn import set_config; set_config(display=\"diagram\")\n",
    "from sklearn.datasets import load_boston, load_breast_cancer\n",
    "from sklearn.model_selection import train_test_split\n",
    "from sklearn.metrics import mean_squared_error, mean_absolute_error\n",
    "import matplotlib.pyplot as plt\n",
    "import seaborn as sns\n",
    "from sklearn.pipeline import Pipeline\n",
    "\n",
    "import warnings\n",
    "warnings.filterwarnings(\"ignore\")"
   ]
  },
  {
   "cell_type": "markdown",
   "id": "1026f684",
   "metadata": {},
   "source": [
    "### Load data"
   ]
  },
  {
   "cell_type": "code",
   "execution_count": null,
   "id": "8c668fca",
   "metadata": {
    "scrolled": true
   },
   "outputs": [],
   "source": [
    "print(load_boston()[\"DESCR\"])"
   ]
  },
  {
   "cell_type": "code",
   "execution_count": null,
   "id": "e4e7cd3b",
   "metadata": {},
   "outputs": [],
   "source": [
    "df_boston_price = pd.concat(\n",
    "    [\n",
    "        pd.DataFrame(\n",
    "            load_boston()[\"data\"],\n",
    "            columns=load_boston()[\"feature_names\"]\n",
    "        ),\n",
    "        pd.DataFrame(\n",
    "            load_boston()[\"target\"],\n",
    "            columns=[\"Price\"]\n",
    "        )\n",
    "    ], \n",
    "    axis=1\n",
    ")\n",
    "\n",
    "df_boston_price.head()"
   ]
  },
  {
   "cell_type": "markdown",
   "id": "c588af65",
   "metadata": {},
   "source": [
    "### Check dataset quality"
   ]
  },
  {
   "cell_type": "code",
   "execution_count": null,
   "id": "5e2497f3",
   "metadata": {},
   "outputs": [],
   "source": [
    "df_boston_price.info()"
   ]
  },
  {
   "cell_type": "code",
   "execution_count": null,
   "id": "4b751e0c",
   "metadata": {},
   "outputs": [],
   "source": [
    "# Summarizing the stats of data\n",
    "df_boston_price.describe()"
   ]
  },
  {
   "cell_type": "code",
   "execution_count": null,
   "id": "0f71529d",
   "metadata": {},
   "outputs": [],
   "source": [
    "# Check for missing values\n",
    "df_boston_price.isnull().sum()"
   ]
  },
  {
   "cell_type": "markdown",
   "id": "04b67a4f",
   "metadata": {},
   "source": [
    "### EDA"
   ]
  },
  {
   "cell_type": "code",
   "execution_count": null,
   "id": "4d91bb38",
   "metadata": {},
   "outputs": [],
   "source": [
    "# Correlation analysis: How independent and target features correlate?\n",
    "sns.heatmap(\n",
    "    df_boston_price.corr()\n",
    ")\n",
    "\n",
    "plt.plot()"
   ]
  },
  {
   "cell_type": "markdown",
   "id": "35690b8a",
   "metadata": {},
   "source": [
    "### Prepare modelling dataset"
   ]
  },
  {
   "cell_type": "code",
   "execution_count": null,
   "id": "2fe2e5b8",
   "metadata": {
    "scrolled": true
   },
   "outputs": [],
   "source": [
    "## Split data into training and testing\n",
    "X_train, X_test, y_train, y_test = train_test_split(\n",
    "    df_boston_price.drop(columns=[\"Price\"]),\n",
    "    df_boston_price[\"Price\"],\n",
    "    test_size=0.2\n",
    ")"
   ]
  },
  {
   "cell_type": "markdown",
   "id": "f42f1b93",
   "metadata": {},
   "source": [
    "### Create pipeline for data transformation and fit model"
   ]
  },
  {
   "cell_type": "code",
   "execution_count": null,
   "id": "a7b14b17",
   "metadata": {},
   "outputs": [],
   "source": [
    "## Pipeline creation\n",
    "pipeline = Pipeline(\n",
    "    steps=[\n",
    "        (\"Standard Scaler\", StandardScaler()),\n",
    "        (\"Regressor\", LinearRegression())\n",
    "    ]\n",
    ")\n",
    "\n",
    "pipeline.fit(X_train, y_train)"
   ]
  },
  {
   "cell_type": "markdown",
   "id": "4721650d",
   "metadata": {},
   "source": [
    "### Check model performance"
   ]
  },
  {
   "cell_type": "code",
   "execution_count": null,
   "id": "6f199944",
   "metadata": {},
   "outputs": [],
   "source": [
    "model_predictions = pd.concat(\n",
    "    [\n",
    "        pd.DataFrame(\n",
    "            pipeline.predict(X_test), \n",
    "            columns=[\"PredictedPrice\"]\n",
    "        ), \n",
    "        pd.DataFrame(\n",
    "            y_test.reset_index(drop=True)\n",
    "        )\n",
    "    ], \n",
    "    axis=1\n",
    ")"
   ]
  },
  {
   "cell_type": "code",
   "execution_count": null,
   "id": "072ee75e",
   "metadata": {},
   "outputs": [],
   "source": [
    "mean_absolute_error(\n",
    "    y_true=model_predictions[\"Price\"], \n",
    "    y_pred=model_predictions[\"PredictedPrice\"]\n",
    ")"
   ]
  },
  {
   "cell_type": "code",
   "execution_count": null,
   "id": "c2d87d4f",
   "metadata": {},
   "outputs": [],
   "source": [
    "np.sqrt(\n",
    "    mean_squared_error(\n",
    "        y_true=model_predictions[\"Price\"], \n",
    "        y_pred=model_predictions[\"PredictedPrice\"]\n",
    "    )\n",
    ")"
   ]
  },
  {
   "cell_type": "markdown",
   "id": "c1aafd21",
   "metadata": {},
   "source": [
    "### Pickling the model file for deployment"
   ]
  },
  {
   "cell_type": "code",
   "execution_count": null,
   "id": "1a97b883",
   "metadata": {},
   "outputs": [],
   "source": [
    "pickle.dump(\n",
    "    pipeline, \n",
    "    open(\n",
    "        \"regression_pipeline.pkl\", \n",
    "        \"wb\" #To be opened in the write-byte mode!\n",
    "    )\n",
    ")\n",
    "\n",
    "# pickled_model = pickle.load(\n",
    "#     open(\"regression_pipeline.pkl\", \"rb\")\n",
    "# )\n",
    "\n",
    "# pickled_model.predict(X_test)"
   ]
  }
 ],
 "metadata": {
  "kernelspec": {
   "display_name": "Python 3",
   "language": "python",
   "name": "python3"
  },
  "language_info": {
   "codemirror_mode": {
    "name": "ipython",
    "version": 3
   },
   "file_extension": ".py",
   "mimetype": "text/x-python",
   "name": "python",
   "nbconvert_exporter": "python",
   "pygments_lexer": "ipython3",
   "version": "3.8.8"
  }
 },
 "nbformat": 4,
 "nbformat_minor": 5
}
